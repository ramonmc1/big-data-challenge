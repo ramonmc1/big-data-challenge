{
  "cells": [
    {
      "cell_type": "code",
      "execution_count": 1,
      "metadata": {
        "colab": {
          "base_uri": "https://localhost:8080/"
        },
        "id": "9BtCOyQ3kChJ",
        "outputId": "05ea28a4-3bbf-4ede-967b-38ba74cd3828"
      },
      "outputs": [
        {
          "output_type": "stream",
          "name": "stdout",
          "text": [
            "\r0% [Working]\r            \rGet:1 http://security.ubuntu.com/ubuntu bionic-security InRelease [88.7 kB]\n",
            "\r0% [Waiting for headers] [1 InRelease 14.2 kB/88.7 kB 16%] [Connected to cloud.\r                                                                               \rHit:2 http://archive.ubuntu.com/ubuntu bionic InRelease\n",
            "\r0% [1 InRelease 28.7 kB/88.7 kB 32%] [Connected to cloud.r-project.org (65.8.17\r                                                                               \rGet:3 http://archive.ubuntu.com/ubuntu bionic-updates InRelease [88.7 kB]\n",
            "\r                                                                               \rHit:4 https://developer.download.nvidia.com/compute/cuda/repos/ubuntu1804/x86_64  InRelease\n",
            "Get:5 https://cloud.r-project.org/bin/linux/ubuntu bionic-cran40/ InRelease [3,626 B]\n",
            "Ign:6 https://developer.download.nvidia.com/compute/machine-learning/repos/ubuntu1804/x86_64  InRelease\n",
            "Get:7 http://archive.ubuntu.com/ubuntu bionic-backports InRelease [74.6 kB]\n",
            "Get:8 http://ppa.launchpad.net/c2d4u.team/c2d4u4.0+/ubuntu bionic InRelease [15.9 kB]\n",
            "Hit:9 https://developer.download.nvidia.com/compute/machine-learning/repos/ubuntu1804/x86_64  Release\n",
            "Hit:10 http://ppa.launchpad.net/cran/libgit2/ubuntu bionic InRelease\n",
            "Get:11 http://ppa.launchpad.net/deadsnakes/ppa/ubuntu bionic InRelease [15.9 kB]\n",
            "Hit:12 http://ppa.launchpad.net/graphics-drivers/ppa/ubuntu bionic InRelease\n",
            "Get:13 http://security.ubuntu.com/ubuntu bionic-security/main amd64 Packages [2,799 kB]\n",
            "Get:14 http://security.ubuntu.com/ubuntu bionic-security/universe amd64 Packages [1,512 kB]\n",
            "Get:15 http://archive.ubuntu.com/ubuntu bionic-updates/main amd64 Packages [3,231 kB]\n",
            "Get:16 http://archive.ubuntu.com/ubuntu bionic-updates/universe amd64 Packages [2,286 kB]\n",
            "Get:18 http://ppa.launchpad.net/c2d4u.team/c2d4u4.0+/ubuntu bionic/main Sources [1,992 kB]\n",
            "Get:19 http://ppa.launchpad.net/c2d4u.team/c2d4u4.0+/ubuntu bionic/main amd64 Packages [1,021 kB]\n",
            "Get:20 http://ppa.launchpad.net/deadsnakes/ppa/ubuntu bionic/main amd64 Packages [45.3 kB]\n",
            "Fetched 13.2 MB in 8s (1,749 kB/s)\n",
            "Reading package lists... Done\n",
            "--2022-06-03 18:42:44--  https://jdbc.postgresql.org/download/postgresql-42.2.9.jar\n",
            "Resolving jdbc.postgresql.org (jdbc.postgresql.org)... 72.32.157.228, 2001:4800:3e1:1::228\n",
            "Connecting to jdbc.postgresql.org (jdbc.postgresql.org)|72.32.157.228|:443... connected.\n",
            "HTTP request sent, awaiting response... 200 OK\n",
            "Length: 914037 (893K) [application/java-archive]\n",
            "Saving to: ‘postgresql-42.2.9.jar’\n",
            "\n",
            "postgresql-42.2.9.j 100%[===================>] 892.61K  --.-KB/s    in 0.1s    \n",
            "\n",
            "2022-06-03 18:42:45 (5.99 MB/s) - ‘postgresql-42.2.9.jar’ saved [914037/914037]\n",
            "\n"
          ]
        }
      ],
      "source": [
        "import os\n",
        "# Find the latest version of spark 3.0  from http://www.apache.org/dist/spark/ and enter as the spark version\n",
        "# For example:\n",
        "spark_version = 'spark-3.0.3'\n",
        "#spark_version = 'spark-3.<enter version>'\n",
        "os.environ['SPARK_VERSION']=spark_version\n",
        "\n",
        "# Install Spark and Java\n",
        "!apt-get update\n",
        "!apt-get install openjdk-8-jdk-headless -qq > /dev/null\n",
        "!wget -q http://www.apache.org/dist/spark/$SPARK_VERSION/$SPARK_VERSION-bin-hadoop2.7.tgz\n",
        "!tar xf $SPARK_VERSION-bin-hadoop2.7.tgz\n",
        "!pip install -q findspark\n",
        "\n",
        "# Set Environment Variables\n",
        "os.environ[\"JAVA_HOME\"] = \"/usr/lib/jvm/java-8-openjdk-amd64\"\n",
        "os.environ[\"SPARK_HOME\"] = f\"/content/{spark_version}-bin-hadoop2.7\"\n",
        "\n",
        "# Start a SparkSession\n",
        "import findspark\n",
        "findspark.init()\n",
        "!wget https://jdbc.postgresql.org/download/postgresql-42.2.9.jar"
      ]
    },
    {
      "cell_type": "code",
      "execution_count": 2,
      "metadata": {
        "id": "3FP8HaLokHui"
      },
      "outputs": [],
      "source": [
        "from pyspark.sql import SparkSession\n",
        "spark = SparkSession.builder.appName(\"CloudETLProjectAnalysis\").getOrCreate()"
      ]
    },
    {
      "cell_type": "code",
      "execution_count": 3,
      "metadata": {
        "colab": {
          "base_uri": "https://localhost:8080/"
        },
        "id": "9LSw6QzzkMkY",
        "outputId": "de0d1431-d62a-4ff0-bb86-c42f8e89b5c5"
      },
      "outputs": [
        {
          "output_type": "stream",
          "name": "stdout",
          "text": [
            "+-----------+-----------+--------------+----------+--------------+--------------------+----------------+-----------+-------------+-----------+----+-----------------+--------------------+--------------------+-----------+\n",
            "|marketplace|customer_id|     review_id|product_id|product_parent|       product_title|product_category|star_rating|helpful_votes|total_votes|vine|verified_purchase|     review_headline|         review_body|review_date|\n",
            "+-----------+-----------+--------------+----------+--------------+--------------------+----------------+-----------+-------------+-----------+----+-----------------+--------------------+--------------------+-----------+\n",
            "|         US|   32787517| RED72VWWCOS7S|B008HDQYLQ|     348668413|Garden Weasel Gar...| Lawn and Garden|          1|            2|          8|   N|                Y|            One Star|I don't hate the ...| 2015-08-31|\n",
            "|         US|   16374060| RZHWQ208LTEPV|B005OBZBD6|     264704759|10 Foot Mc4 Solar...| Lawn and Garden|          5|            0|          0|   N|                Y|          Five Stars|        worked great| 2015-08-31|\n",
            "|         US|    9984817|R37LBC3XAVLYOO|B00RQL8U2G|      95173602|GE String A Long ...| Lawn and Garden|          5|            4|          5|   N|                Y|just what i neede...|just what i neede...| 2015-08-31|\n",
            "|         US|   12635190|R3L7XJMA0MVJWC|B0081SBO4Y|     835659279|Key Pair Lawn Wit...| Lawn and Garden|          5|            0|          0|   N|                Y|                Keys|Needed replacemen...| 2015-08-31|\n",
            "|         US|   43905102|R2I2GHSI7T1UBN|B008E6OK3U|     539243347|Zodiac R0502300 L...| Lawn and Garden|          1|            5|          6|   N|                Y|       Too expensive|Assuming you don'...| 2015-08-31|\n",
            "|         US|   52596997|R2GFFKHK4I6VMX|B00W6NTULY|     337446474|Hirts Gardens Swe...| Lawn and Garden|          5|            0|          0|   N|                Y|                Nice|Beautifully packa...| 2015-08-31|\n",
            "|         US|   43871104|R1R0UDX2XAN1S4|B00GXUMYKA|     468857193|AGPtEK 12 PCS Smo...| Lawn and Garden|          4|            0|          0|   N|                Y|These were pretty...|These were pretty...| 2015-08-31|\n",
            "|         US|   11346008|R22C8FMBSTFRY8|B005EIX8JS|     125753094|Design Toscano Ea...| Lawn and Garden|          5|            2|          2|   N|                Y|Kids love it. WIs...|Its in the center...| 2015-08-31|\n",
            "|         US|   49206471|R118NNIQ75XPGO|B000HJBKMQ|     834273114|TERRO T300 Liquid...| Lawn and Garden|          3|            0|          0|   N|                Y|      A little messy|The ants were att...| 2015-08-31|\n",
            "|         US|   37596267|R30HYXHZQ49621|B004LY59V6|     612086079|BLACK+DECKER LBXR...| Lawn and Garden|          2|            0|          0|   N|                Y|Does not hold a c...|This is advertise...| 2015-08-31|\n",
            "+-----------+-----------+--------------+----------+--------------+--------------------+----------------+-----------+-------------+-----------+----+-----------------+--------------------+--------------------+-----------+\n",
            "only showing top 10 rows\n",
            "\n"
          ]
        }
      ],
      "source": [
        "from pyspark import SparkFiles\n",
        "# Load in user_data.csv from S3 into a DataFrame\n",
        "url = \"https://s3.amazonaws.com/amazon-reviews-pds/tsv/amazon_reviews_us_Lawn_and_Garden_v1_00.tsv.gz\"\n",
        "spark.sparkContext.addFile(url)\n",
        "\n",
        "df = spark.read.option('header', 'true').csv(SparkFiles.get(\"amazon_reviews_us_Lawn_and_Garden_v1_00.tsv.gz\"), inferSchema=True, sep='\\t', timestampFormat=\"mm/dd/yy\")\n",
        "df.show(10)"
      ]
    },
    {
      "cell_type": "markdown",
      "metadata": {
        "id": "IifpzN6zkN5Q"
      },
      "source": [
        "## Count numbere of rows"
      ]
    },
    {
      "cell_type": "code",
      "execution_count": 4,
      "metadata": {
        "colab": {
          "base_uri": "https://localhost:8080/"
        },
        "id": "E72hLCa7kT_D",
        "outputId": "6e13c397-294f-4337-b50e-4db85299cd86"
      },
      "outputs": [
        {
          "output_type": "stream",
          "name": "stdout",
          "text": [
            "2557288\n",
            "2557005\n",
            "2557005\n"
          ]
        }
      ],
      "source": [
        "print(df.count())\n",
        "df = df.dropna()\n",
        "print(df.count())\n",
        "df = df.dropDuplicates()\n",
        "print(df.count())"
      ]
    },
    {
      "cell_type": "markdown",
      "metadata": {
        "id": "rc0cg6mvZkGj"
      },
      "source": [
        "Transform to fit schema"
      ]
    },
    {
      "cell_type": "code",
      "execution_count": 5,
      "metadata": {
        "colab": {
          "base_uri": "https://localhost:8080/"
        },
        "id": "i0uRcP7xZi_L",
        "outputId": "6391e95f-c575-4bf4-b549-f171bdd4f172"
      },
      "outputs": [
        {
          "output_type": "stream",
          "name": "stdout",
          "text": [
            "+--------------+-----------+----------+--------------+-----------+\n",
            "|     review_id|customer_id|product_id|product_parent|review_date|\n",
            "+--------------+-----------+----------+--------------+-----------+\n",
            "|R1005P9J6VW5R3|   52047618|B004T34BA4|     767857880| 2013-08-22|\n",
            "|R100G8CW43Z88H|   44491134|B00198KP7K|     483989260| 2014-01-11|\n",
            "|R100GVZLWL8W5W|   27118518|B00021FLQK|      35303180| 2013-06-08|\n",
            "|R100X0TTGJ0DJO|   11396402|B00GSPHS1U|     884654147| 2014-08-29|\n",
            "|R10163CIAEURW2|   18683796|B001Q3M80U|     318115509| 2013-05-25|\n",
            "|R101FKJY32QC1H|   15669933|B006IE17IG|     182631652| 2013-01-01|\n",
            "|R101XR37UEXIQP|   33446506|B00008W71T|     489049465| 2004-04-06|\n",
            "|R1025TDS5CIURA|   53010138|B000CSS520|     465533388| 2007-05-30|\n",
            "|R1026XUCSMBLNC|   40950391|B0013AV9AG|     627907179| 2013-03-15|\n",
            "|R102R94KOSEH61|   45904960|B001E8NXG0|      59904235| 2013-01-09|\n",
            "|R103VFU1DTRU2F|   12435754|B00K2KQ2QO|     406215080| 2014-07-18|\n",
            "|R103WHKEGIHZ5T|   20916354|B002S42A3Q|     613355079| 2013-08-14|\n",
            "| R104WQ0IJLWPD|   35420011|B000CFOUEU|     661887017| 2006-07-18|\n",
            "|R104XSCHM7NF6C|   14036055|B001HB35JO|     650928972| 2015-05-30|\n",
            "|R1053WQGHQS0KQ|   20977856|B00H4D2U9K|     989109742| 2014-09-11|\n",
            "|R105BXSC4LHYJN|    9471984|B0012XWTGW|     950149733| 2013-07-04|\n",
            "|R105I9QSUWN4BS|   20615336|B00CAB5AAW|     926868939| 2015-05-15|\n",
            "|R1061TMISR0DIS|    5186398|B00P5DTFGW|     736423725| 2014-11-03|\n",
            "|R106CK1S9868OG|   12919744|B00025H2PY|     592807498| 2012-12-28|\n",
            "|R106M2R7WEVYCT|   51892033|B004REK370|     811740234| 2014-12-16|\n",
            "+--------------+-----------+----------+--------------+-----------+\n",
            "only showing top 20 rows\n",
            "\n"
          ]
        }
      ],
      "source": [
        "review_id_table = df.select([\"review_id\", \"customer_id\", \"product_id\", \"product_parent\", \"review_date\"])\n",
        "review_id_table.show()"
      ]
    },
    {
      "cell_type": "code",
      "execution_count": 6,
      "metadata": {
        "colab": {
          "base_uri": "https://localhost:8080/"
        },
        "id": "isE4SlLmZ8TI",
        "outputId": "9ea6a16a-8f37-45a2-d910-e46a4c7b1b79"
      },
      "outputs": [
        {
          "output_type": "stream",
          "name": "stdout",
          "text": [
            "+----------+--------------------+\n",
            "|product_id|       product_title|\n",
            "+----------+--------------------+\n",
            "|B004T34BA4|Achla Designs Hea...|\n",
            "|B00198KP7K|Grill Daddy Repla...|\n",
            "|B00021FLQK|Mr. Bar-B-Q Plati...|\n",
            "|B00GSPHS1U|Intex Sand Filter...|\n",
            "|B001Q3M80U|Jack Post CG-12Z ...|\n",
            "|B006IE17IG|STC EGH520 Portab...|\n",
            "|B00008W71T|Weber Slide Aside...|\n",
            "|B000CSS520|Troy-Bilt Pony 6....|\n",
            "|B0013AV9AG|Black & Decker CV...|\n",
            "|B001E8NXG0|Achla Designs Din...|\n",
            "|B00K2KQ2QO|KINGLAKE 100PCS W...|\n",
            "|B002S42A3Q|Heavy Duty Replac...|\n",
            "|B000CFOUEU|Rubbermaid  Horiz...|\n",
            "|B001HB35JO|Songbird Essentia...|\n",
            "|B00H4D2U9K|Eley Wall Mount G...|\n",
            "|B0012XWTGW|Heavenly Blue Mor...|\n",
            "|B00CAB5AAW|Buddha of Compass...|\n",
            "|B00P5DTFGW|1/4 Lb (113 Grams...|\n",
            "|B00025H2PY|Diatomaceous Eart...|\n",
            "|B004REK370|Char-Broil Stainl...|\n",
            "+----------+--------------------+\n",
            "only showing top 20 rows\n",
            "\n"
          ]
        }
      ],
      "source": [
        "product = df.select([\"product_id\", \"product_title\"])\n",
        "product.show()"
      ]
    },
    {
      "cell_type": "code",
      "execution_count": 7,
      "metadata": {
        "colab": {
          "base_uri": "https://localhost:8080/"
        },
        "id": "7mWj01C0Z8bg",
        "outputId": "7a19dd3a-3d68-49cf-d978-d287327d7d93"
      },
      "outputs": [
        {
          "output_type": "stream",
          "name": "stdout",
          "text": [
            "+-----------+--------------+\n",
            "|customer_id|customer_count|\n",
            "+-----------+--------------+\n",
            "|   13507163|             1|\n",
            "|   42192220|             3|\n",
            "|   16022693|             2|\n",
            "|   17054071|             1|\n",
            "|   31950090|             3|\n",
            "|   23669123|             1|\n",
            "|   20901680|             1|\n",
            "|   51281657|             5|\n",
            "|   42050941|             2|\n",
            "|   47844876|             2|\n",
            "|   23745825|             1|\n",
            "|   51168318|             1|\n",
            "|   16181580|             2|\n",
            "|   50699952|            15|\n",
            "|   43483731|             8|\n",
            "|    2050707|             1|\n",
            "|   47884795|             1|\n",
            "|    4712293|             1|\n",
            "|   37267422|             2|\n",
            "|   11760241|             2|\n",
            "+-----------+--------------+\n",
            "only showing top 20 rows\n",
            "\n"
          ]
        }
      ],
      "source": [
        "customers = df.groupby(\"customer_id\").agg({\"customer_id\":\"count\"})\n",
        "customers = customers.withColumnRenamed(\"count(customer_id)\", \"customer_count\")\n",
        "customers.show()"
      ]
    },
    {
      "cell_type": "code",
      "execution_count": 8,
      "metadata": {
        "colab": {
          "base_uri": "https://localhost:8080/"
        },
        "id": "pOExxu6cYfgZ",
        "outputId": "8d88943e-4fea-47f3-feb1-2ced302a3306"
      },
      "outputs": [
        {
          "output_type": "stream",
          "name": "stdout",
          "text": [
            "+--------------+-----------+-------------+-----------+----+\n",
            "|     review_id|star_rating|helpful_votes|total_votes|vine|\n",
            "+--------------+-----------+-------------+-----------+----+\n",
            "|R1005P9J6VW5R3|          2|            5|          5|   N|\n",
            "|R100G8CW43Z88H|          1|            1|          1|   N|\n",
            "|R100GVZLWL8W5W|          5|            0|          0|   N|\n",
            "|R100X0TTGJ0DJO|          5|            0|          0|   N|\n",
            "|R10163CIAEURW2|          5|            4|          4|   N|\n",
            "|R101FKJY32QC1H|          3|            0|          0|   N|\n",
            "|R101XR37UEXIQP|          5|           24|         24|   N|\n",
            "|R1025TDS5CIURA|          3|            4|          5|   N|\n",
            "|R1026XUCSMBLNC|          5|            0|          0|   N|\n",
            "|R102R94KOSEH61|          5|            1|          1|   N|\n",
            "|R103VFU1DTRU2F|          5|            0|          0|   N|\n",
            "|R103WHKEGIHZ5T|          5|            0|          0|   N|\n",
            "| R104WQ0IJLWPD|          4|            5|          7|   N|\n",
            "|R104XSCHM7NF6C|          2|            0|          0|   N|\n",
            "|R1053WQGHQS0KQ|          5|            1|          1|   N|\n",
            "|R105BXSC4LHYJN|          5|            1|          2|   N|\n",
            "|R105I9QSUWN4BS|          5|            0|          0|   N|\n",
            "|R1061TMISR0DIS|          5|            0|          0|   N|\n",
            "|R106CK1S9868OG|          1|            1|          4|   N|\n",
            "|R106M2R7WEVYCT|          3|            0|          0|   N|\n",
            "+--------------+-----------+-------------+-----------+----+\n",
            "only showing top 20 rows\n",
            "\n"
          ]
        }
      ],
      "source": [
        "vine_table = df.select([\"review_id\", \"star_rating\", \"helpful_votes\", \"total_votes\", \"vine\"])\n",
        "vine_table.show()"
      ]
    },
    {
      "cell_type": "code",
      "execution_count": 27,
      "metadata": {
        "id": "uXQe3s_ElN2U"
      },
      "outputs": [],
      "source": [
        "mode=\"append\"\n",
        "jdbc_url=\"jdbc:postgresql://database-1.cluster-cv1pxdhixoh6.us-west-2.rds.amazonaws.com:5432/database-1\"\n",
        "# database-1-instance-2.cv1pxdhixoh6.us-west-2.rds.amazonaws.com\n",
        "# # database-1.cluster-cv1pxdhixoh6.us-west-2.rds.amazonaws.com\n",
        "config = {\"user\":\"postgres\", \n",
        "          \"password\": \"Dat4umel\", \n",
        "          \"driver\":\"org.postgresql.Driver\"}"
      ]
    },
    {
      "cell_type": "code",
      "execution_count": 29,
      "metadata": {
        "id": "yGUehzspfuAi"
      },
      "outputs": [],
      "source": [
        "review_id_table.write.jdbc(url=jdbc_url, table='review_id', mode=mode, properties=config)\n"
      ]
    },
    {
      "cell_type": "code",
      "source": [
        "product.write.jdbc(url=jdbc_url, table='products', mode=mode, properties=config)\n"
      ],
      "metadata": {
        "id": "ysruQ0Ll_lhA"
      },
      "execution_count": null,
      "outputs": []
    },
    {
      "cell_type": "code",
      "source": [
        "customers.write.jdbc(url=jdbc_url, table='customers', mode=mode, properties=config)"
      ],
      "metadata": {
        "id": "UzTuc7kU_l5J"
      },
      "execution_count": null,
      "outputs": []
    },
    {
      "cell_type": "code",
      "execution_count": 30,
      "metadata": {
        "id": "6cXrO-fIfuXd"
      },
      "outputs": [],
      "source": [
        "\n",
        "vine_table.write.jdbc(url=jdbc_url, table='vine_table', mode=mode, properties=config)"
      ]
    }
  ],
  "metadata": {
    "colab": {
      "collapsed_sections": [],
      "name": "data_set1_lawn.ipynb",
      "provenance": []
    },
    "kernelspec": {
      "display_name": "Python 3",
      "language": "python",
      "name": "python3"
    },
    "language_info": {
      "codemirror_mode": {
        "name": "ipython",
        "version": 3
      },
      "file_extension": ".py",
      "mimetype": "text/x-python",
      "name": "python",
      "nbconvert_exporter": "python",
      "pygments_lexer": "ipython3",
      "version": "3.8.8"
    }
  },
  "nbformat": 4,
  "nbformat_minor": 0
}