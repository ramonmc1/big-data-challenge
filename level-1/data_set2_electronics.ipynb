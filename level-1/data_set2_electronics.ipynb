{
  "cells": [
    {
      "cell_type": "code",
      "execution_count": 1,
      "metadata": {
        "colab": {
          "base_uri": "https://localhost:8080/"
        },
        "id": "9BtCOyQ3kChJ",
        "outputId": "b9ea4488-592e-4b56-e823-0b034f73d948"
      },
      "outputs": [
        {
          "name": "stdout",
          "output_type": "stream",
          "text": [
            "\r0% [Working]\r            \rGet:1 http://security.ubuntu.com/ubuntu bionic-security InRelease [88.7 kB]\n",
            "\r0% [Connecting to archive.ubuntu.com (185.125.190.36)] [1 InRelease 0 B/88.7 kB\r                                                                               \rGet:2 http://ppa.launchpad.net/c2d4u.team/c2d4u4.0+/ubuntu bionic InRelease [15.9 kB]\n",
            "\r0% [Waiting for headers] [1 InRelease 20.0 kB/88.7 kB 22%] [Connected to cloud.\r                                                                               \rHit:3 http://archive.ubuntu.com/ubuntu bionic InRelease\n",
            "\r0% [1 InRelease 88.7 kB/88.7 kB 100%] [Connected to cloud.r-project.org (108.15\r                                                                               \rGet:4 http://archive.ubuntu.com/ubuntu bionic-updates InRelease [88.7 kB]\n",
            "\r                                                                               \rHit:5 https://developer.download.nvidia.com/compute/cuda/repos/ubuntu1804/x86_64  InRelease\n",
            "\r0% [4 InRelease 27.2 kB/88.7 kB 31%] [Connected to cloud.r-project.org (108.157\r0% [3 InRelease gpgv 242 kB] [4 InRelease 27.2 kB/88.7 kB 31%] [Connected to cl\r                                                                               \rHit:6 http://ppa.launchpad.net/cran/libgit2/ubuntu bionic InRelease\n",
            "\r0% [3 InRelease gpgv 242 kB] [4 InRelease 50.4 kB/88.7 kB 57%] [Waiting for hea\r0% [3 InRelease gpgv 242 kB] [Waiting for headers] [Waiting for headers] [Conne\r                                                                               \rGet:7 https://cloud.r-project.org/bin/linux/ubuntu bionic-cran40/ InRelease [3,626 B]\n",
            "\r0% [3 InRelease gpgv 242 kB] [Waiting for headers] [Waiting for headers] [Waiti\r                                                                               \rGet:8 http://archive.ubuntu.com/ubuntu bionic-backports InRelease [74.6 kB]\n",
            "\r0% [3 InRelease gpgv 242 kB] [8 InRelease 11.3 kB/74.6 kB 15%] [Waiting for hea\r                                                                               \rGet:9 http://ppa.launchpad.net/deadsnakes/ppa/ubuntu bionic InRelease [15.9 kB]\n",
            "Hit:10 http://ppa.launchpad.net/graphics-drivers/ppa/ubuntu bionic InRelease\n",
            "Ign:11 https://developer.download.nvidia.com/compute/machine-learning/repos/ubuntu1804/x86_64  InRelease\n",
            "Hit:12 https://developer.download.nvidia.com/compute/machine-learning/repos/ubuntu1804/x86_64  Release\n",
            "Get:13 http://security.ubuntu.com/ubuntu bionic-security/main amd64 Packages [2,799 kB]\n",
            "Get:14 http://security.ubuntu.com/ubuntu bionic-security/universe amd64 Packages [1,512 kB]\n",
            "Get:15 http://ppa.launchpad.net/c2d4u.team/c2d4u4.0+/ubuntu bionic/main Sources [1,992 kB]\n",
            "Get:16 http://ppa.launchpad.net/c2d4u.team/c2d4u4.0+/ubuntu bionic/main amd64 Packages [1,021 kB]\n",
            "Get:17 http://archive.ubuntu.com/ubuntu bionic-updates/universe amd64 Packages [2,286 kB]\n",
            "Get:18 http://archive.ubuntu.com/ubuntu bionic-updates/main amd64 Packages [3,231 kB]\n",
            "Get:19 http://ppa.launchpad.net/deadsnakes/ppa/ubuntu bionic/main amd64 Packages [45.3 kB]\n",
            "Fetched 13.2 MB in 4s (3,612 kB/s)\n",
            "Reading package lists... Done\n",
            "--2022-06-03 11:36:35--  https://jdbc.postgresql.org/download/postgresql-42.2.9.jar\n",
            "Resolving jdbc.postgresql.org (jdbc.postgresql.org)... 72.32.157.228, 2001:4800:3e1:1::228\n",
            "Connecting to jdbc.postgresql.org (jdbc.postgresql.org)|72.32.157.228|:443... connected.\n",
            "HTTP request sent, awaiting response... 200 OK\n",
            "Length: 914037 (893K) [application/java-archive]\n",
            "Saving to: ‘postgresql-42.2.9.jar’\n",
            "\n",
            "postgresql-42.2.9.j 100%[===================>] 892.61K  1.53MB/s    in 0.6s    \n",
            "\n",
            "2022-06-03 11:36:36 (1.53 MB/s) - ‘postgresql-42.2.9.jar’ saved [914037/914037]\n",
            "\n"
          ]
        }
      ],
      "source": [
        "import os\n",
        "# Find the latest version of spark 3.0  from http://www.apache.org/dist/spark/ and enter as the spark version\n",
        "# For example:\n",
        "spark_version = 'spark-3.0.3'\n",
        "#spark_version = 'spark-3.<enter version>'\n",
        "os.environ['SPARK_VERSION']=spark_version\n",
        "\n",
        "# Install Spark and Java\n",
        "!apt-get update\n",
        "!apt-get install openjdk-8-jdk-headless -qq > /dev/null\n",
        "!wget -q http://www.apache.org/dist/spark/$SPARK_VERSION/$SPARK_VERSION-bin-hadoop2.7.tgz\n",
        "!tar xf $SPARK_VERSION-bin-hadoop2.7.tgz\n",
        "!pip install -q findspark\n",
        "\n",
        "# Set Environment Variables\n",
        "os.environ[\"JAVA_HOME\"] = \"/usr/lib/jvm/java-8-openjdk-amd64\"\n",
        "os.environ[\"SPARK_HOME\"] = f\"/content/{spark_version}-bin-hadoop2.7\"\n",
        "\n",
        "# Start a SparkSession\n",
        "import findspark\n",
        "findspark.init()\n",
        "\n",
        "!wget https://jdbc.postgresql.org/download/postgresql-42.2.9.jar"
      ]
    },
    {
      "cell_type": "code",
      "execution_count": 2,
      "metadata": {
        "id": "3FP8HaLokHui"
      },
      "outputs": [],
      "source": [
        "from pyspark.sql import SparkSession\n",
        "spark = SparkSession.builder.appName(\"CloudETLProjectAnalysis\").getOrCreate()"
      ]
    },
    {
      "cell_type": "code",
      "execution_count": 3,
      "metadata": {
        "colab": {
          "base_uri": "https://localhost:8080/"
        },
        "id": "9LSw6QzzkMkY",
        "outputId": "9532b4dc-43ea-41d6-d9d3-4e65dec55738"
      },
      "outputs": [
        {
          "name": "stdout",
          "output_type": "stream",
          "text": [
            "+-----------+-----------+--------------+----------+--------------+--------------------+----------------+-----------+-------------+-----------+----+-----------------+--------------------+--------------------+-----------+\n",
            "|marketplace|customer_id|     review_id|product_id|product_parent|       product_title|product_category|star_rating|helpful_votes|total_votes|vine|verified_purchase|     review_headline|         review_body|review_date|\n",
            "+-----------+-----------+--------------+----------+--------------+--------------------+----------------+-----------+-------------+-----------+----+-----------------+--------------------+--------------------+-----------+\n",
            "|         US|   41409413|R2MTG1GCZLR2DK|B00428R89M|     112201306|yoomall 5M Antenn...|     Electronics|          5|            0|          0|   N|                Y|          Five Stars|       As described.| 2015-08-31|\n",
            "|         US|   49668221|R2HBOEM8LE9928|B000068O48|     734576678|Hosa GPM-103 3.5m...|     Electronics|          5|            0|          0|   N|                Y|It works as adver...|It works as adver...| 2015-08-31|\n",
            "|         US|   12338275|R1P4RW1R9FDPEE|B000GGKOG8|     614448099|Channel Master Ti...|     Electronics|          5|            1|          1|   N|                Y|          Five Stars|         Works pissa| 2015-08-31|\n",
            "|         US|   38487968|R1EBPM82ENI67M|B000NU4OTA|      72265257|LIMTECH Wall char...|     Electronics|          1|            0|          0|   N|                Y|            One Star|Did not work at all.| 2015-08-31|\n",
            "|         US|   23732619|R372S58V6D11AT|B00JOQIO6S|     308169188|Skullcandy Air Ra...|     Electronics|          5|            1|          1|   N|                Y|Overall pleased w...|Works well. Bass ...| 2015-08-31|\n",
            "|         US|   21257820|R1A4514XOYI1PD|B008NCD2LG|     976385982|Pioneer SP-BS22-L...|     Electronics|          5|            1|          1|   N|                Y|          Five Stars|The quality on th...| 2015-08-31|\n",
            "|         US|    3084991|R20D9EHB7N20V6|B00007FGUF|     670878953|C2G/Cables to Go ...|     Electronics|          5|            0|          0|   N|                Y|           Lifesaver|Wish I could give...| 2015-08-31|\n",
            "|         US|    8153674|R1WUTD8MVSROJU|B00M9V2RMM|     508452933|COOLEAD-HDMI Swit...|     Electronics|          5|            0|          0|   N|                Y|          Five Stars|         works great| 2015-08-31|\n",
            "|         US|   52246189|R1QCYLT25812DM|B00J3O9DYI|     766372886|Philips Wireless ...|     Electronics|          4|            0|          0|   N|                Y|          Four Stars|Great sound and c...| 2015-08-31|\n",
            "|         US|   41463864| R904DQPBCEM7A|B00NS1A0E4|     458130381|PlayStation 3 3D ...|     Electronics|          4|            0|          0|   N|                Y|          Four Stars|    It works well~~~| 2015-08-31|\n",
            "+-----------+-----------+--------------+----------+--------------+--------------------+----------------+-----------+-------------+-----------+----+-----------------+--------------------+--------------------+-----------+\n",
            "only showing top 10 rows\n",
            "\n"
          ]
        }
      ],
      "source": [
        "from pyspark import SparkFiles\n",
        "# Load in user_data.csv from S3 into a DataFrame\n",
        "url = \"https://s3.amazonaws.com/amazon-reviews-pds/tsv/amazon_reviews_us_Electronics_v1_00.tsv.gz\"\n",
        "spark.sparkContext.addFile(url)\n",
        "\n",
        "df = spark.read.option('header', 'true').csv(SparkFiles.get(\"amazon_reviews_us_Electronics_v1_00.tsv.gz\"), inferSchema=True, sep='\\t', timestampFormat=\"mm/dd/yy\")\n",
        "df.show(10)"
      ]
    },
    {
      "cell_type": "markdown",
      "metadata": {
        "id": "IifpzN6zkN5Q"
      },
      "source": [
        "## Count numbere of rows"
      ]
    },
    {
      "cell_type": "code",
      "execution_count": 5,
      "metadata": {
        "colab": {
          "base_uri": "https://localhost:8080/"
        },
        "id": "q2CvNIJOXc_k",
        "outputId": "c76deb24-7cbb-48f0-a66c-c32a4ecd4e4f"
      },
      "outputs": [
        {
          "name": "stdout",
          "output_type": "stream",
          "text": [
            "3093869\n",
            "3093660\n",
            "3093660\n"
          ]
        }
      ],
      "source": [
        "print(df.count())\n",
        "df = df.dropna()\n",
        "print(df.count())\n",
        "df = df.dropDuplicates()\n",
        "print(df.count())"
      ]
    },
    {
      "cell_type": "markdown",
      "metadata": {
        "id": "rc0cg6mvZkGj"
      },
      "source": [
        "Transform to fit schema"
      ]
    },
    {
      "cell_type": "code",
      "execution_count": 6,
      "metadata": {
        "colab": {
          "base_uri": "https://localhost:8080/"
        },
        "id": "i0uRcP7xZi_L",
        "outputId": "0ecc7e99-cae1-4f49-e54e-b9d8b9f98663"
      },
      "outputs": [
        {
          "name": "stdout",
          "output_type": "stream",
          "text": [
            "+--------------+-----------+----------+--------------+-----------+\n",
            "|     review_id|customer_id|product_id|product_parent|review_date|\n",
            "+--------------+-----------+----------+--------------+-----------+\n",
            "|R100J4AOWOWCTX|   43188629|B00CP1N45K|     556368387| 2013-10-14|\n",
            "|R100N7Y79EQNCL|   41773257|B008VMT2HQ|     178314766| 2015-06-30|\n",
            "|R1015SVKAKV7EQ|   37180271|B00CL8FFW2|     643672885| 2014-06-19|\n",
            "|R101BIRNEZ17XW|   22896030|B005C1KG9M|     205202992| 2012-12-24|\n",
            "|R102PG7ZKS5IFS|   40119038|B00413ZCVO|     195242426| 2011-10-03|\n",
            "|R10398PM75STU0|   50649955|B000AHVGC4|     487899844| 2010-08-30|\n",
            "|R103QXL0PLKBVO|   15650406|B00316263Y|     945305640| 2011-07-12|\n",
            "|R103Z5DGS3VBRK|   22001706|B00BLZ7EYI|     212214930| 2014-02-27|\n",
            "|R104271C2Q2DCM|    2468415|B0035JKJ2W|     963937571| 2013-12-09|\n",
            "|R1049GRPORPPOG|   51117624|B005UNPM3M|        497843| 2015-05-28|\n",
            "|R104OZXSZEA872|   21864230|B00067OF80|      12310937| 2008-09-25|\n",
            "|R104XNJ9PUIYBW|   40874429|B00H45LDFU|     351908409| 2015-07-14|\n",
            "|R1054D8RWOMWPE|   41690122|B002M3SO0G|     605575590| 2012-02-08|\n",
            "|R1055XFYP6KV1J|   26443811|B0002ZPF6W|      55935274| 2013-02-18|\n",
            "|R105OB9HCBV5QX|    9883627|B004QK7HI8|     663821832| 2015-08-30|\n",
            "|R105S1HRONDRIZ|   12751712|B009EIUH6G|     229548907| 2012-11-15|\n",
            "|R105UPF7GNVPHT|   12945025|B00BBDKTJC|     791043040| 2015-08-22|\n",
            "|R1063C2O12DCKW|   14819503|B008MG5V80|     429644299| 2014-12-06|\n",
            "|R10641JOPH06BN|   49736864|B00004SD88|     123415529| 2003-06-01|\n",
            "| R1067T99LH245|   48409604|B000BMQPCE|     946288462| 2009-10-31|\n",
            "+--------------+-----------+----------+--------------+-----------+\n",
            "only showing top 20 rows\n",
            "\n"
          ]
        }
      ],
      "source": [
        "review_id_table = df.select([\"review_id\", \"customer_id\", \"product_id\", \"product_parent\", \"review_date\"])\n",
        "review_id_table.show()"
      ]
    },
    {
      "cell_type": "code",
      "execution_count": 8,
      "metadata": {
        "colab": {
          "base_uri": "https://localhost:8080/"
        },
        "id": "isE4SlLmZ8TI",
        "outputId": "9b4d816d-dda3-413c-93c5-43196173d444"
      },
      "outputs": [
        {
          "name": "stdout",
          "output_type": "stream",
          "text": [
            "+----------+--------------------+\n",
            "|product_id|       product_title|\n",
            "+----------+--------------------+\n",
            "|B00CP1N45K|ViewHD Advanced H...|\n",
            "|B008VMT2HQ|TDK Life on Recor...|\n",
            "|B00CL8FFW2|GE 87670 RG6 Crim...|\n",
            "|B005C1KG9M|Replacment Ear Pa...|\n",
            "|B00413ZCVO|Pioneer Elite VSX...|\n",
            "|B000AHVGC4|APC AV J10 Home T...|\n",
            "|B00316263Y|BlueRigger Basic ...|\n",
            "|B00BLZ7EYI|uxcell DC 5V 1-Ch...|\n",
            "|B0035JKJ2W|Sennheiser Earfin...|\n",
            "|B005UNPM3M|Titanium Smart Fa...|\n",
            "|B00067OF80|Sennheiser EH-150...|\n",
            "|B00H45LDFU|Elite Screens DIY...|\n",
            "|B002M3SO0G|Apple 16 GB iPod ...|\n",
            "|B0002ZPF6W|Parts Express 2.5...|\n",
            "|B004QK7HI8|Mohu Leaf 30 TV A...|\n",
            "|B009EIUH6G|Logitech Harmony ...|\n",
            "|B00BBDKTJC|Audio Technica AT...|\n",
            "|B008MG5V80|ECOXGEAR ECOXBT R...|\n",
            "|B00004SD88|Sennheiser Open D...|\n",
            "|B000BMQPCE|Premier Mounts FL...|\n",
            "+----------+--------------------+\n",
            "only showing top 20 rows\n",
            "\n"
          ]
        }
      ],
      "source": [
        "product_table = df.select([\"product_id\", \"product_title\"])\n",
        "product_table.show()"
      ]
    },
    {
      "cell_type": "code",
      "execution_count": 10,
      "metadata": {
        "colab": {
          "base_uri": "https://localhost:8080/"
        },
        "id": "7mWj01C0Z8bg",
        "outputId": "3427d5b4-3cf7-4feb-97ca-78c01352ef28"
      },
      "outputs": [
        {
          "name": "stdout",
          "output_type": "stream",
          "text": [
            "+-----------+--------------+\n",
            "|customer_id|customer_count|\n",
            "+-----------+--------------+\n",
            "|   41626553|             1|\n",
            "|   46134234|             4|\n",
            "|   13705152|             1|\n",
            "|   44413267|             1|\n",
            "|   36644422|             2|\n",
            "|    8061365|             1|\n",
            "|   49196304|             9|\n",
            "|   11587470|             1|\n",
            "|   25538476|             3|\n",
            "|   46889381|             3|\n",
            "|   11263585|             6|\n",
            "|   12865675|             5|\n",
            "|   51398878|             1|\n",
            "|   46791882|             1|\n",
            "|   52689018|             1|\n",
            "|   51185108|             3|\n",
            "|   25750713|             1|\n",
            "|   49696648|             2|\n",
            "|   25425404|             1|\n",
            "|   33093303|             1|\n",
            "+-----------+--------------+\n",
            "only showing top 20 rows\n",
            "\n"
          ]
        }
      ],
      "source": [
        "customers_table = df.groupby(\"customer_id\").agg({\"customer_id\":\"count\"})\n",
        "customers= customers_table.withColumnRenamed(\"count(customer_id)\", \"customer_count\")\n",
        "customers.show()"
      ]
    },
    {
      "cell_type": "code",
      "execution_count": null,
      "metadata": {
        "colab": {
          "base_uri": "https://localhost:8080/"
        },
        "id": "pOExxu6cYfgZ",
        "outputId": "3d68ecd7-79c2-4e67-b6a8-1f73f281a940"
      },
      "outputs": [
        {
          "name": "stdout",
          "output_type": "stream",
          "text": [
            "+--------------+-----------+-------------+-----------+----+\n",
            "|     review_id|star_rating|helpful_votes|total_votes|vine|\n",
            "+--------------+-----------+-------------+-----------+----+\n",
            "|R2MTG1GCZLR2DK|          5|            0|          0|   N|\n",
            "|R2HBOEM8LE9928|          5|            0|          0|   N|\n",
            "|R1P4RW1R9FDPEE|          5|            1|          1|   N|\n",
            "|R1EBPM82ENI67M|          1|            0|          0|   N|\n",
            "|R372S58V6D11AT|          5|            1|          1|   N|\n",
            "|R1A4514XOYI1PD|          5|            1|          1|   N|\n",
            "|R20D9EHB7N20V6|          5|            0|          0|   N|\n",
            "|R1WUTD8MVSROJU|          5|            0|          0|   N|\n",
            "|R1QCYLT25812DM|          4|            0|          0|   N|\n",
            "| R904DQPBCEM7A|          4|            0|          0|   N|\n",
            "|R1DGA6UQIVLKZ7|          5|            0|          0|   N|\n",
            "| RLQT3V8SMNIBH|          5|            0|          0|   N|\n",
            "|R3T9GZS2TMXZGM|          1|            0|          0|   N|\n",
            "|R24HVAEYP5PLDN|          5|            0|          1|   N|\n",
            "|R32KMAPNV5NJPJ|          5|            0|          0|   N|\n",
            "| RC7VLPHUT6UAF|          5|            0|          0|   N|\n",
            "|R3G1II8P4KGUAR|          5|            0|          0|   N|\n",
            "|R1UBFCBUALL6S5|          5|            0|          0|   N|\n",
            "|R1WI5NISM6GAUG|          2|            4|          5|   N|\n",
            "|R27F4OF4BIA4LU|          2|            1|          1|   N|\n",
            "+--------------+-----------+-------------+-----------+----+\n",
            "only showing top 20 rows\n",
            "\n"
          ]
        }
      ],
      "source": [
        "vine_table = df.select([\"review_id\", \"star_rating\", \"helpful_votes\", \"total_votes\", \"vine\"])\n",
        "vine_table.show()"
      ]
    },
    {
      "cell_type": "code",
      "execution_count": 11,
      "metadata": {
        "id": "uXQe3s_ElN2U"
      },
      "outputs": [],
      "source": [
        "mode=\"append\"\n",
        "\n",
        "jdbc_url=\"jdbc:postgresql://database-1.cv1pxdhixoh6.us-west-2.rds.amazonaws.com:5432/database-1\"\n",
        "config = {\"user\":\"postgres\", \n",
        "          \"password\": \"<password>\", \n",
        "          \"driver\":\"org.postgresql.Driver\"}"
      ]
    },
    {
      "cell_type": "code",
      "execution_count": 12,
      "metadata": {
        "id": "yGUehzspfuAi"
      },
      "outputs": [],
      "source": [
        "review_id_table.write.jdbc(url=jdbc_url, table='review_id', mode=mode, properties=config)\n"
      ]
    },
    {
      "cell_type": "code",
      "execution_count": null,
      "metadata": {
        "id": "6cXrO-fIfuXd"
      },
      "outputs": [],
      "source": [
        "product_table.write.jdbc(url=jdbc_url, table='products', mode=mode, properties=config)\n"
      ]
    },
    {
      "cell_type": "code",
      "execution_count": null,
      "metadata": {},
      "outputs": [],
      "source": [
        "customers.write.jdbc(url=jdbc_url, table='customers', mode=mode, properties=config)\n"
      ]
    },
    {
      "cell_type": "code",
      "execution_count": null,
      "metadata": {},
      "outputs": [],
      "source": [
        "vine_table.write.jdbc(url=jdbc_url, table='vine_table', mode=mode, properties=config)"
      ]
    }
  ],
  "metadata": {
    "colab": {
      "collapsed_sections": [],
      "name": "data_set2_electronics.ipynb",
      "provenance": []
    },
    "kernelspec": {
      "display_name": "Python 3",
      "language": "python",
      "name": "python3"
    },
    "language_info": {
      "codemirror_mode": {
        "name": "ipython",
        "version": 3
      },
      "file_extension": ".py",
      "mimetype": "text/x-python",
      "name": "python",
      "nbconvert_exporter": "python",
      "pygments_lexer": "ipython3",
      "version": "3.8.8"
    }
  },
  "nbformat": 4,
  "nbformat_minor": 0
}
